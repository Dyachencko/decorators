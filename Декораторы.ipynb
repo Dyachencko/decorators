{
  "nbformat": 4,
  "nbformat_minor": 0,
  "metadata": {
    "colab": {
      "name": "Декораторы.ipynb",
      "provenance": [],
      "authorship_tag": "ABX9TyMm5EzSotQ1FKJO+PmXnjNE",
      "include_colab_link": true
    },
    "kernelspec": {
      "name": "python3",
      "display_name": "Python 3"
    }
  },
  "cells": [
    {
      "cell_type": "markdown",
      "metadata": {
        "id": "view-in-github",
        "colab_type": "text"
      },
      "source": [
        "<a href=\"https://colab.research.google.com/github/Dyachencko/decorators/blob/master/%D0%94%D0%B5%D0%BA%D0%BE%D1%80%D0%B0%D1%82%D0%BE%D1%80%D1%8B.ipynb\" target=\"_parent\"><img src=\"https://colab.research.google.com/assets/colab-badge.svg\" alt=\"Open In Colab\"/></a>"
      ]
    },
    {
      "cell_type": "markdown",
      "metadata": {
        "id": "tTyNHqzxWuIW",
        "colab_type": "text"
      },
      "source": [
        "Нулевой пример"
      ]
    },
    {
      "cell_type": "code",
      "metadata": {
        "id": "q1XiVJ9aV1kg",
        "colab_type": "code",
        "outputId": "90d5e6e5-533c-4407-c8cb-987c1f41e6be",
        "colab": {
          "base_uri": "https://localhost:8080/",
          "height": 141
        }
      },
      "source": [
        "def my_shiny_new_decorator(function_to_decorate):\n",
        "    # Внутри себя декоратор определяет функцию-\"обёртку\". Она будет обёрнута вокруг декорируемой,\n",
        "    # получая возможность исполнять произвольный код до и после неё.\n",
        "    def the_wrapper_around_the_original_function():\n",
        "        print(\"Я - код, который отработает до вызова функции\")\n",
        "        function_to_decorate() # Сама функция\n",
        "        print(\"А я - код, срабатывающий после\")\n",
        "    # Вернём эту функцию\n",
        "    return the_wrapper_around_the_original_function\n",
        "\n",
        "# Представим теперь, что у нас есть функция, которую мы не планируем больше трогать.\n",
        "def stand_alone_function():\n",
        "    print(\"Я простая одинокая функция, ты ведь не посмеешь меня изменять?\")\n",
        "\n",
        "stand_alone_function()\n",
        "# Однако, чтобы изменить её поведение, мы можем декорировать её, то есть просто передать декоратору,\n",
        "# который обернет исходную функцию в любой код, который нам потребуется, и вернёт новую,\n",
        "# готовую к использованию функцию:\n",
        "stand_alone_function_decorated = my_shiny_new_decorator(stand_alone_function)\n",
        "stand_alone_function_decorated()\n"
      ],
      "execution_count": 0,
      "outputs": [
        {
          "output_type": "stream",
          "text": [
            "Я простая одинокая функция, ты ведь не посмеешь меня изменять?\n",
            "Я - код, который отработает до вызова функции\n",
            "Я простая одинокая функция, ты ведь не посмеешь меня изменять?\n",
            "А я - код, срабатывающий после\n",
            "Я - код, который отработает до вызова функции\n",
            "Я простая одинокая функция, ты ведь не посмеешь меня изменять?\n",
            "А я - код, срабатывающий после\n"
          ],
          "name": "stdout"
        }
      ]
    },
    {
      "cell_type": "markdown",
      "metadata": {
        "id": "WjVV3s-XW2Be",
        "colab_type": "text"
      },
      "source": [
        "\n",
        "Упражнение 1"
      ]
    },
    {
      "cell_type": "code",
      "metadata": {
        "id": "6kJXWqVyo0NK",
        "colab_type": "code",
        "outputId": "11fba917-a80d-4f5f-917e-2a7a18ba21a3",
        "colab": {
          "base_uri": "https://localhost:8080/",
          "height": 35
        }
      },
      "source": [
        "def decorator(func):\n",
        "    def wrapper(nums):\n",
        "        a = func(nums)\n",
        "        if a > 10:\n",
        "             print (\"Слишком много!\")\n",
        "        elif a == 0:\n",
        "             print (\"НЕТУ!\")\n",
        "        else:\n",
        "             print (\"Четных чисел:\", a)\n",
        "        \n",
        "    return wrapper\n",
        "\n",
        "@decorator\n",
        "def chislo_chetnyh(nums):\n",
        " chetnye = 0\n",
        " for item in nums:\n",
        "    if item % 2 == 0:\n",
        "       chetnye += 1 \n",
        "       \n",
        " return chetnye\n",
        "\n",
        "chislo_chetnyh([1,2,4,5,6,7,8,9,8,0,9,7,7,7,8])"
      ],
      "execution_count": 14,
      "outputs": [
        {
          "output_type": "stream",
          "text": [
            "Четных чисел: 7\n"
          ],
          "name": "stdout"
        }
      ]
    },
    {
      "cell_type": "markdown",
      "metadata": {
        "id": "Omnq5Ava3h-Q",
        "colab_type": "text"
      },
      "source": [
        "Упражнение 2"
      ]
    },
    {
      "cell_type": "code",
      "metadata": {
        "id": "0_9pCuKY3hjL",
        "colab_type": "code",
        "colab": {
          "base_uri": "https://localhost:8080/",
          "height": 35
        },
        "outputId": "8a957f21-d821-42ba-f574-302c2e764146"
      },
      "source": [
        "def dec_method(method_to_dec):\n",
        "    def foo(self, other):\n",
        "        obj1 = method_to_dec(self, other)\n",
        "        print(f'({self.x},{self.y}) + ({other.x},{other.y}) = ({obj1.x},{obj1.y})')\n",
        "    return foo\n",
        "\n",
        "\n",
        "\n",
        "class Vector:\n",
        "    def __init__(self, x = 0, y = 0):\n",
        "        self.x = x\n",
        "        self.y = y\n",
        "    @dec_method\n",
        "    def __add__(self, other):\n",
        "        return Vector(self.x + other.x, self.y + other.y)\n",
        "\n",
        "obj2 = Vector(5,7)\n",
        "obj3 = Vector(3,8)\n",
        "obj1 = obj2 + obj3\n",
        "    "
      ],
      "execution_count": 3,
      "outputs": [
        {
          "output_type": "stream",
          "text": [
            "(5,7) + (3,8) = (8,15)\n"
          ],
          "name": "stdout"
        }
      ]
    },
    {
      "cell_type": "markdown",
      "metadata": {
        "id": "0e1R-PvxXWG-",
        "colab_type": "text"
      },
      "source": [
        "1)Передача декоратором аргументов в функцию"
      ]
    },
    {
      "cell_type": "code",
      "metadata": {
        "id": "qU78VKVHWimd",
        "colab_type": "code",
        "outputId": "9cd991b4-00d1-4457-fbb4-0e305ccd27f0",
        "colab": {
          "base_uri": "https://localhost:8080/",
          "height": 53
        }
      },
      "source": [
        "def a_decorator_passing_arguments(function_to_decorate):\n",
        "    def a_wrapper_accepting_arguments(arg1, arg2):\n",
        "        print(\"Смотри, что я получил:\", arg1, arg2)\n",
        "        function_to_decorate(arg1, arg2)\n",
        "    return a_wrapper_accepting_arguments\n",
        "\n",
        "# Теперь, когда мы вызываем функцию, которую возвращает декоратор, мы вызываем её \"обёртку\",\n",
        "# передаём ей аргументы и уже в свою очередь она передаёт их декорируемой функции\n",
        "@a_decorator_passing_arguments\n",
        "def print_full_name(first_name, last_name):\n",
        "    print(\"Меня зовут\", first_name, last_name)\n",
        "\n",
        "print_full_name(\"Vasya\", \"Pupkin\")"
      ],
      "execution_count": 0,
      "outputs": [
        {
          "output_type": "stream",
          "text": [
            "Смотри, что я получил: Vasya Pupkin\n",
            "Меня зовут Vasya Pupkin\n"
          ],
          "name": "stdout"
        }
      ]
    },
    {
      "cell_type": "markdown",
      "metadata": {
        "id": "-n4RO7L-XaTl",
        "colab_type": "text"
      },
      "source": [
        "2)Декорирование методов"
      ]
    },
    {
      "cell_type": "code",
      "metadata": {
        "id": "V_LfPwVYXd7y",
        "colab_type": "code",
        "outputId": "387e702b-3d0c-43d8-96b2-ab77ec48b708",
        "colab": {
          "base_uri": "https://localhost:8080/",
          "height": 35
        }
      },
      "source": [
        "def method_friendly_decorator(method_to_decorate):\n",
        "    def wrapper(self, lie):\n",
        "        lie -= 3\n",
        "        return method_to_decorate(self, lie)\n",
        "    return wrapper\n",
        "\n",
        "class Lucy:\n",
        "    def __init__(self):\n",
        "        self.age = 32\n",
        "    @method_friendly_decorator\n",
        "    def sayYourAge(self, lie):\n",
        "        print(\"Мне {} лет, а ты бы сколько дал?\".format(self.age + lie))\n",
        "\n",
        "l = Lucy()\n",
        "l.sayYourAge(-3)"
      ],
      "execution_count": 0,
      "outputs": [
        {
          "output_type": "stream",
          "text": [
            "Мне 26 лет, а ты бы сколько дал?\n"
          ],
          "name": "stdout"
        }
      ]
    }
  ]
}